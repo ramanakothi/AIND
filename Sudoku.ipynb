{
 "cells": [
  {
   "cell_type": "code",
   "execution_count": 1,
   "metadata": {
    "collapsed": false
   },
   "outputs": [],
   "source": [
    "from visualize import * "
   ]
  },
  {
   "cell_type": "code",
   "execution_count": 2,
   "metadata": {
    "collapsed": false
   },
   "outputs": [],
   "source": [
    "from PySudoku import *"
   ]
  },
  {
   "cell_type": "code",
   "execution_count": 3,
   "metadata": {
    "collapsed": false
   },
   "outputs": [],
   "source": [
    "from solution_test import *"
   ]
  },
  {
   "cell_type": "code",
   "execution_count": 4,
   "metadata": {
    "collapsed": true
   },
   "outputs": [],
   "source": [
    "assignments = []\n",
    "rows = 'ABCDEFGHI'\n",
    "cols = '123456789'\n",
    "\n",
    "def assign_value(values, box, value):\n",
    "    \"\"\"\n",
    "    Please use this function to update your values dictionary!\n",
    "    Assigns a value to a given box. If it updates the board record it.\n",
    "    \"\"\"\n",
    "\n",
    "    # Don't waste memory appending actions that don't actually change any values\n",
    "    if values[box] == value:\n",
    "        return values\n",
    "\n",
    "    values[box] = value\n",
    "    if len(value) == 1:\n",
    "        assignments.append(values.copy())\n",
    "    return values"
   ]
  },
  {
   "cell_type": "code",
   "execution_count": 159,
   "metadata": {
    "collapsed": true
   },
   "outputs": [],
   "source": [
    "def naked_twins(values):\n",
    "    \"\"\"Eliminate values using the naked twins strategy.\n",
    "    Args:\n",
    "        values(dict): a dictionary of the form {'box_name': '123456789', ...}\n",
    "    Returns:\n",
    "        the values dictionary with the naked twins eliminated from peers.\n",
    "    \"\"\"\n",
    "    # Find all instances of naked twins\n",
    "    # Eliminate the naked twins as possibilities for their peers\n",
    "    for peers in unitlist:\n",
    "        naked_twin = [box for box in peers if len(values[box]) == 2]\n",
    "        naked_twin_digits = [values[box] for box in peers if len(values[box]) == 2]\n",
    "        naked_twin_values = [twin for twin in naked_twin if naked_twin_digits.count(values[twin]) > 1]\n",
    "        for twin in naked_twin_values:\n",
    "            twin_val = values[twin]\n",
    "            print(\"val\", twin_val, twin )\n",
    "            for digit in twin_val:\n",
    "                for peer in peers:\n",
    "                    if digit in values[peer] and values[peer] != twin_val:\n",
    "                        print(\"digit\", digit, values[peer] )\n",
    "                        values[peer] = values[peer].replace(digit,\"\")\n",
    "\n",
    "    return values"
   ]
  },
  {
   "cell_type": "code",
   "execution_count": 161,
   "metadata": {
    "collapsed": true
   },
   "outputs": [],
   "source": [
    "def cross(a, b):\n",
    "    return [s+t for s in a for t in b]\n",
    "\n",
    "boxes = cross(rows, cols)\n",
    "\n",
    "row_units = [cross(r, cols) for r in rows]\n",
    "column_units = [cross(rows, c) for c in cols]\n",
    "square_units = [cross(rs, cs) for rs in ('ABC','DEF','GHI') for cs in ('123','456','789')]\n",
    "diag1 = [[str(r)+str(10- int(c)) for (r,c) in zip(rows,cols)]]\n",
    "\n",
    "diag2 = [[r+c for (r,c) in zip(rows,cols)]]\n",
    "#print(diag2)\n",
    "unitlist = row_units + column_units + square_units + diag1 + diag2\n",
    "units = dict((s, [u for u in unitlist if s in u]) for s in boxes)\n",
    "#print('units',units)\n",
    "peers = dict((s, set(sum(units[s],[]))-set([s])) for s in boxes)\n",
    "#print(peers.keys())\n",
    "\n"
   ]
  },
  {
   "cell_type": "code",
   "execution_count": 7,
   "metadata": {
    "collapsed": true
   },
   "outputs": [],
   "source": [
    "def grid_values(grid):\n",
    "    \"\"\"\n",
    "    Convert grid into a dict of {square: char} with '123456789' for empties.\n",
    "    Args:\n",
    "        grid(string) - A grid in string form.\n",
    "    Returns:\n",
    "        A grid in dictionary form\n",
    "            Keys: The boxes, e.g., 'A1'\n",
    "            Values: The value in each box, e.g., '8'. If the box has no value, then the value will be '123456789'.\n",
    "    \"\"\"\n",
    "    values = []\n",
    "    all_digits = '123456789'\n",
    "    for c in grid:\n",
    "        if c == '.':\n",
    "            values.append(all_digits)\n",
    "        elif c in all_digits:\n",
    "            values.append(c)\n",
    "    assert len(values) == 81\n",
    "    return dict(zip(boxes, values))"
   ]
  },
  {
   "cell_type": "code",
   "execution_count": 8,
   "metadata": {
    "collapsed": true
   },
   "outputs": [],
   "source": [
    "def display(values):\n",
    "    \"\"\"\n",
    "    Display the values as a 2-D grid.\n",
    "    Args:\n",
    "        values(dict): The sudoku in dictionary form\n",
    "    \"\"\"\n",
    "    width = 1+max(len(values[s]) for s in boxes)\n",
    "    line = '+'.join(['-'*(width*3)]*3)\n",
    "    for r in rows:\n",
    "        print(''.join(values[r+c].center(width)+('|' if c in '36' else '')\n",
    "                      for c in cols))\n",
    "        if r in 'CF': print(line)\n",
    "    return"
   ]
  },
  {
   "cell_type": "code",
   "execution_count": 9,
   "metadata": {
    "collapsed": true
   },
   "outputs": [],
   "source": [
    "def eliminate(values):\n",
    "    \"\"\"Eliminate values from peers of each box with a single value.\n",
    "\n",
    "    Go through all the boxes, and whenever there is a box with a single value,\n",
    "    eliminate this value from the set of values of all its peers.\n",
    "\n",
    "    Args:\n",
    "        values: Sudoku in dictionary form.\n",
    "    Returns:\n",
    "        Resulting Sudoku in dictionary form after eliminating values.\n",
    "    \"\"\"\n",
    "    solved_values = [box for box in values.keys() if len(values[box]) == 1]\n",
    "    for box in solved_values:\n",
    "        digit = values[box]\n",
    "        for peer in peers[box]:\n",
    "            values[peer] = values[peer].replace(digit,'')\n",
    "    return values"
   ]
  },
  {
   "cell_type": "code",
   "execution_count": 10,
   "metadata": {
    "collapsed": true
   },
   "outputs": [],
   "source": [
    "def only_choice(values):\n",
    "    for unit in unitlist:\n",
    "        for digit in '123456789':\n",
    "            dplaces = [box for box in unit if digit in values[box]]\n",
    "            if len(dplaces) == 1:\n",
    "                values[dplaces[0]] = digit\n",
    "    return values"
   ]
  },
  {
   "cell_type": "code",
   "execution_count": 11,
   "metadata": {
    "collapsed": true
   },
   "outputs": [],
   "source": [
    "def reduce_puzzle(values):\n",
    "    stalled = False\n",
    "    while not stalled:\n",
    "        # Check how many boxes have a determined value\n",
    "        solved_values_before = len([box for box in values.keys() if len(values[box]) == 1])\n",
    "        # Use the Eliminate Strategy\n",
    "        values = eliminate(values)\n",
    "        # Use the Only Choice Strategy\n",
    "        values = naked_twins(values)\n",
    "        values = only_choice(values)\n",
    "        # Check how many boxes have a determined value, to compare\n",
    "        solved_values_after = len([box for box in values.keys() if len(values[box]) == 1])\n",
    "        # If no new values were added, stop the loop.\n",
    "        stalled = solved_values_before == solved_values_after\n",
    "        # Sanity check, return False if there is a box with zero available values:\n",
    "        if len([box for box in values.keys() if len(values[box]) == 0]):\n",
    "            return False\n",
    "    return values"
   ]
  },
  {
   "cell_type": "code",
   "execution_count": 12,
   "metadata": {
    "collapsed": true
   },
   "outputs": [],
   "source": [
    "def search(values):\n",
    "    values = reduce_puzzle(values)\n",
    "    #print(values)\n",
    "    if values is False:\n",
    "        return False ## Failed earlier\n",
    "    \n",
    "    if all(len(values[s]) == 1 for s in boxes): \n",
    "        return values ## Solved!\n",
    "    # Choose one of the unfilled squares with the fewest possibilities\n",
    "    n,s = min((len(values[s]), s) for s in boxes if len(values[s]) > 1)\n",
    "    #print('s',s)\n",
    "    # Now use recurrence to solve each one of the resulting sudokus, and \n",
    "    for value in values[s]:\n",
    "        new_sudoku = values.copy()\n",
    "        #print(new_sudoku)\n",
    "        new_sudoku[s] = value\n",
    "        attempt = search(new_sudoku)\n",
    "        if attempt:\n",
    "            return attempt"
   ]
  },
  {
   "cell_type": "code",
   "execution_count": 13,
   "metadata": {
    "collapsed": false
   },
   "outputs": [
    {
     "name": "stdout",
     "output_type": "stream",
     "text": [
      "    2     123456789 123456789 |123456789 123456789 123456789 |123456789 123456789 123456789 \n",
      "123456789 123456789 123456789 |123456789 123456789     6     |    2     123456789 123456789 \n",
      "123456789 123456789     1     |123456789 123456789 123456789 |123456789     7     123456789 \n",
      "------------------------------+------------------------------+------------------------------\n",
      "123456789 123456789     6     |123456789 123456789     8     |123456789 123456789 123456789 \n",
      "    3     123456789 123456789 |123456789     9     123456789 |123456789 123456789     7     \n",
      "123456789 123456789 123456789 |    6     123456789 123456789 |    4     123456789 123456789 \n",
      "------------------------------+------------------------------+------------------------------\n",
      "123456789     4     123456789 |123456789 123456789 123456789 |    8     123456789 123456789 \n",
      "123456789 123456789     5     |    2     123456789 123456789 |123456789 123456789 123456789 \n",
      "123456789 123456789 123456789 |123456789 123456789 123456789 |123456789 123456789     3     \n"
     ]
    }
   ],
   "source": [
    "diag_sudoku_grid = '2.............62....1....7...6..8...3...9...7...6..4...4....8....52.............3'\n",
    "display(grid_values(diag_sudoku_grid))"
   ]
  },
  {
   "cell_type": "code",
   "execution_count": 160,
   "metadata": {
    "collapsed": false
   },
   "outputs": [
    {
     "name": "stdout",
     "output_type": "stream",
     "text": [
      "val 57 B2\n",
      "digit 5 457\n",
      "digit 7 47\n",
      "val 57 F6\n",
      "val 57 B2\n",
      "val 57 F6\n",
      "val 57 B2\n",
      "val 57 F6\n",
      "val 57 B2\n",
      "val 57 F6\n",
      "val 57 B2\n",
      "val 57 F6\n",
      "val 19 H1\n",
      "val 19 H6\n",
      "val 57 B2\n",
      "val 57 F6\n",
      "val 19 H1\n",
      "val 19 H6\n",
      "val 89 B1\n",
      "digit 8 3789\n",
      "digit 8 3789\n",
      "digit 9 379\n",
      "digit 9 379\n",
      "val 89 B9\n",
      "val 19 H1\n",
      "val 19 H6\n",
      "val 89 F3\n",
      "digit 8 3789\n",
      "digit 9 379\n",
      "val 89 I3\n",
      "val 35 D5\n",
      "digit 3 23\n",
      "digit 3 37\n",
      "val 35 F5\n",
      "val 37 A3\n",
      "val 89 B1\n",
      "val 37 B3\n",
      "val 89 C2\n",
      "val 35 D5\n",
      "val 35 F5\n",
      "val 89 B1\n",
      "val 37 B3\n",
      "val 37 B4\n",
      "val 89 B9\n",
      "val 19 H1\n",
      "val 19 H6\n",
      "val 19 I2\n",
      "digit 9 89\n",
      "val 19 I7\n",
      "val 37 A3\n",
      "val 37 B3\n",
      "val 35 D5\n",
      "val 35 F5\n",
      "val 89 B9\n",
      "digit 9 29\n",
      "digit 9 59\n",
      "val 89 F9\n",
      "val 37 A3\n",
      "val 37 B3\n",
      "val 35 D5\n",
      "val 35 F5\n",
      "val 19 H1\n",
      "val 19 I2\n",
      "val 19 G8\n",
      "val 19 I7\n",
      "val 37 B3\n",
      "val 37 B4\n",
      "val 15 D1\n",
      "val 15 F1\n",
      "val 37 A3\n",
      "val 37 B3\n",
      "val 35 D5\n",
      "val 35 F5\n",
      "val 37 A3\n",
      "val 37 B3\n",
      "val 15 D1\n",
      "val 15 F1\n",
      "val 35 D5\n",
      "val 35 F5\n",
      "val 35 D5\n",
      "val 35 F5\n",
      "val 35 D5\n",
      "val 35 F5\n",
      "2 6 7 |9 4 5 |3 8 1 \n",
      "8 5 3 |7 1 6 |2 4 9 \n",
      "4 9 1 |8 2 3 |5 7 6 \n",
      "------+------+------\n",
      "5 7 6 |4 3 8 |1 9 2 \n",
      "3 8 4 |1 9 2 |6 5 7 \n",
      "1 2 9 |6 5 7 |4 3 8 \n",
      "------+------+------\n",
      "6 4 2 |3 7 9 |8 1 5 \n",
      "9 3 5 |2 8 1 |7 6 4 \n",
      "7 1 8 |5 6 4 |9 2 3 \n"
     ]
    }
   ],
   "source": [
    "display(search(grid_values(diag_sudoku_grid)))"
   ]
  },
  {
   "cell_type": "code",
   "execution_count": null,
   "metadata": {
    "collapsed": true
   },
   "outputs": [],
   "source": []
  }
 ],
 "metadata": {
  "kernelspec": {
   "display_name": "Python [default]",
   "language": "python",
   "name": "python3"
  },
  "language_info": {
   "codemirror_mode": {
    "name": "ipython",
    "version": 3
   },
   "file_extension": ".py",
   "mimetype": "text/x-python",
   "name": "python",
   "nbconvert_exporter": "python",
   "pygments_lexer": "ipython3",
   "version": "3.5.2"
  }
 },
 "nbformat": 4,
 "nbformat_minor": 2
}
